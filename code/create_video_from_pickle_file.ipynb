{
 "cells": [
  {
   "cell_type": "markdown",
   "metadata": {},
   "source": [
    "## Create Video from Pickle file"
   ]
  },
  {
   "cell_type": "markdown",
   "metadata": {},
   "source": [
    "This script will create an overlay video from a saved pickel file which includes a'decription' and 'model' object.\n",
    "\n",
    "The source directory must include"
   ]
  },
  {
   "cell_type": "code",
   "execution_count": 1,
   "metadata": {},
   "outputs": [],
   "source": [
    "import os"
   ]
  },
  {
   "cell_type": "code",
   "execution_count": 2,
   "metadata": {},
   "outputs": [],
   "source": [
    "# OPTIONAL GPU SETTING\n",
    "# Here we override the keras backend env variable to use plaidml\n",
    "# plaidml will use a GPU\n",
    "# This assignment needs to be added before loading keras libraries\n",
    "\n",
    "# os.environ[\"KERAS_BACKEND\"] = \"plaidml.keras.backend\"\n",
    "\n",
    "# to install plaidML, activate appropriate environment and then:\n",
    "#   pip install -U plaidml-keras\n",
    "#   plaidml-setup"
   ]
  },
  {
   "cell_type": "code",
   "execution_count": 3,
   "metadata": {},
   "outputs": [],
   "source": [
    "# localtion of test data\n",
    "# requires subdirectory 'images/data'\n",
    "source_dir = '/Volumes/Photos-BACKUP/89FinalProject/89FinalData/test'"
   ]
  },
  {
   "cell_type": "code",
   "execution_count": 4,
   "metadata": {},
   "outputs": [],
   "source": [
    "# Loading a prevously saved pickle file\n",
    "import pickle\n",
    "\n",
    "def pickle_load(pickel_filepath):\n",
    "    with open(pickel_filepath, 'rb') as f:\n",
    "        data = pickle.load(f)\n",
    "        return data"
   ]
  },
  {
   "cell_type": "code",
   "execution_count": 5,
   "metadata": {},
   "outputs": [],
   "source": [
    "# all PathFinder pickle files are saved with data.pickle filename\n",
    "pickle_filename = 'data.pickle'\n",
    "\n",
    "# Path name to pickle file - this is where video will be saved with name from description object in pickle\n",
    "pickel_dirpath = '/Volumes/Photos-BACKUP/89FinalProject/89FinalData/results/1558874762_CNN_encoder-simple51200_epochs=30_notes=32-64-128-3-4-5_loss=0.6379'\n",
    "target_dir = pickel_dirpath"
   ]
  },
  {
   "cell_type": "code",
   "execution_count": 6,
   "metadata": {},
   "outputs": [
    {
     "name": "stderr",
     "output_type": "stream",
     "text": [
      "Using TensorFlow backend.\n"
     ]
    },
    {
     "name": "stdout",
     "output_type": "stream",
     "text": [
      "WARNING:tensorflow:From /anaconda3/envs/dl/lib/python3.6/site-packages/tensorflow/python/framework/op_def_library.py:263: colocate_with (from tensorflow.python.framework.ops) is deprecated and will be removed in a future version.\n",
      "Instructions for updating:\n",
      "Colocations handled automatically by placer.\n",
      "WARNING:tensorflow:From /anaconda3/envs/dl/lib/python3.6/site-packages/keras/backend/tensorflow_backend.py:3445: calling dropout (from tensorflow.python.ops.nn_ops) with keep_prob is deprecated and will be removed in a future version.\n",
      "Instructions for updating:\n",
      "Please use `rate` instead of `keep_prob`. Rate should be set to `rate = 1 - keep_prob`.\n",
      "WARNING:tensorflow:From /anaconda3/envs/dl/lib/python3.6/site-packages/tensorflow/python/ops/math_ops.py:3066: to_int32 (from tensorflow.python.ops.math_ops) is deprecated and will be removed in a future version.\n",
      "Instructions for updating:\n",
      "Use tf.cast instead.\n"
     ]
    }
   ],
   "source": [
    "# get 'description' and 'model' objects from pickle file\n",
    "data = pickle_load(os.path.join(pickel_dirpath, pickle_filename))\n",
    "description = data[0]\n",
    "model = data[1]"
   ]
  },
  {
   "cell_type": "code",
   "execution_count": 7,
   "metadata": {},
   "outputs": [
    {
     "data": {
      "text/plain": [
       "{'Model_Type': 'CNN_encoder-simple51200',\n",
       " 'input_height': 240,\n",
       " 'input_width': 360,\n",
       " 'color': True,\n",
       " 'output_height': 240,\n",
       " 'output_width': 360,\n",
       " 'l2_lambda': 0,\n",
       " 'final_activation': 'relu',\n",
       " 'optimizer': 'adadelta',\n",
       " 'loss': 'binary_crossentropy',\n",
       " 'learn_rate': None,\n",
       " 'batch_size': 64,\n",
       " 'epochs': 30,\n",
       " 'rotation': 30,\n",
       " 'zoom': [0.6, 1.0],\n",
       " 'hflip': True,\n",
       " 'vflip': True,\n",
       " 'dropout': 0.2,\n",
       " 'epoch_time': 1558874762,\n",
       " 'fill_mode': 'nearest',\n",
       " 'notes': '32-64-128-3-4-5',\n",
       " 'name': '1558874762_CNN_encoder-simple51200_epochs=30_notes=32-64-128-3-4-5',\n",
       " 'history': <keras.callbacks.History at 0x104e83ac8>,\n",
       " 'results': 0.6378867904345195}"
      ]
     },
     "execution_count": 7,
     "metadata": {},
     "output_type": "execute_result"
    }
   ],
   "source": [
    "# for reference\n",
    "description"
   ]
  },
  {
   "cell_type": "code",
   "execution_count": 8,
   "metadata": {},
   "outputs": [
    {
     "name": "stdout",
     "output_type": "stream",
     "text": [
      "_________________________________________________________________\n",
      "Layer (type)                 Output Shape              Param #   \n",
      "=================================================================\n",
      "input_12 (InputLayer)        (None, 240, 360, 3)       0         \n",
      "_________________________________________________________________\n",
      "conv2d_89 (Conv2D)           (None, 240, 360, 32)      896       \n",
      "_________________________________________________________________\n",
      "max_pooling2d_34 (MaxPooling (None, 80, 120, 32)       0         \n",
      "_________________________________________________________________\n",
      "dropout_12 (Dropout)         (None, 80, 120, 32)       0         \n",
      "_________________________________________________________________\n",
      "conv2d_90 (Conv2D)           (None, 80, 120, 64)       18496     \n",
      "_________________________________________________________________\n",
      "max_pooling2d_35 (MaxPooling (None, 20, 30, 64)        0         \n",
      "_________________________________________________________________\n",
      "dropout_13 (Dropout)         (None, 20, 30, 64)        0         \n",
      "_________________________________________________________________\n",
      "conv2d_91 (Conv2D)           (None, 20, 30, 128)       73856     \n",
      "_________________________________________________________________\n",
      "max_pooling2d_36 (MaxPooling (None, 4, 6, 128)         0         \n",
      "_________________________________________________________________\n",
      "conv2d_92 (Conv2D)           (None, 4, 6, 128)         147584    \n",
      "_________________________________________________________________\n",
      "up_sampling2d_45 (UpSampling (None, 20, 30, 128)       0         \n",
      "_________________________________________________________________\n",
      "conv2d_93 (Conv2D)           (None, 20, 30, 64)        73792     \n",
      "_________________________________________________________________\n",
      "up_sampling2d_46 (UpSampling (None, 80, 120, 64)       0         \n",
      "_________________________________________________________________\n",
      "conv2d_94 (Conv2D)           (None, 80, 120, 32)       18464     \n",
      "_________________________________________________________________\n",
      "up_sampling2d_47 (UpSampling (None, 240, 360, 32)      0         \n",
      "_________________________________________________________________\n",
      "conv2d_95 (Conv2D)           (None, 240, 360, 1)       289       \n",
      "=================================================================\n",
      "Total params: 333,377\n",
      "Trainable params: 333,377\n",
      "Non-trainable params: 0\n",
      "_________________________________________________________________\n"
     ]
    }
   ],
   "source": [
    "# for reference\n",
    "model.summary()"
   ]
  },
  {
   "cell_type": "code",
   "execution_count": 10,
   "metadata": {},
   "outputs": [
    {
     "name": "stdout",
     "output_type": "stream",
     "text": [
      "Creating test image generator:\n",
      "\t/Volumes/Photos-BACKUP/89FinalProject/89FinalData/test/images\n",
      "Found 891 images belonging to 1 classes.\n",
      "Processing 891 images in 1 batches.\n",
      "Creating video name:  /Volumes/Photos-BACKUP/89FinalProject/89FinalData/results/1558874762_CNN_encoder-simple51200_epochs=30_notes=32-64-128-3-4-5_loss=0.6379/1558874762_CNN_encoder-simple51200_epochs=30_notes=32-64-128-3-4-5.mp4\n",
      "FPS:  25.0\n",
      "Video created /Volumes/Photos-BACKUP/89FinalProject/89FinalData/results/1558874762_CNN_encoder-simple51200_epochs=30_notes=32-64-128-3-4-5_loss=0.6379/1558874762_CNN_encoder-simple51200_epochs=30_notes=32-64-128-3-4-5.mp4\n"
     ]
    }
   ],
   "source": [
    "# execute create video function\n",
    "# creates a single video with all video sequences in the testdir directory\n",
    "from video_support_processes import *\n",
    "# import os\n",
    "# import scipy.io\n",
    "# import numpy as np\n",
    "# import cv2\n",
    "# import math\n",
    "# from keras.preprocessing.image import ImageDataGenerator\n",
    "\n",
    "create_video_with_mask(source_dir, model, description, target_dir, filename=description[\"name\"],\n",
    "                            follow_bias=0.85,\n",
    "                            follow_intensity_adj=2.1,\n",
    "                            avoid_bias=0.5,\n",
    "                            avoid_intensity_adj=0.7,\n",
    "                            img_mask_ratio=0.6,\n",
    "                            fps=25.0)"
   ]
  },
  {
   "cell_type": "code",
   "execution_count": null,
   "metadata": {},
   "outputs": [],
   "source": []
  }
 ],
 "metadata": {
  "kernelspec": {
   "display_name": "Python 3",
   "language": "python",
   "name": "python3"
  },
  "language_info": {
   "codemirror_mode": {
    "name": "ipython",
    "version": 3
   },
   "file_extension": ".py",
   "mimetype": "text/x-python",
   "name": "python",
   "nbconvert_exporter": "python",
   "pygments_lexer": "ipython3",
   "version": "3.6.8"
  }
 },
 "nbformat": 4,
 "nbformat_minor": 2
}
