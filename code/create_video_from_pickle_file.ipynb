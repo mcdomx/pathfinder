{
 "cells": [
  {
   "cell_type": "markdown",
   "metadata": {},
   "source": [
    "## Create Video from Pickle file"
   ]
  },
  {
   "cell_type": "markdown",
   "metadata": {},
   "source": [
    "This script will create an overlay video from a saved pickel file which includes a'decription' and 'model' object.\n",
    "\n",
    "The source directory must include"
   ]
  },
  {
   "cell_type": "code",
   "execution_count": null,
   "metadata": {},
   "outputs": [],
   "source": [
    "import os"
   ]
  },
  {
   "cell_type": "code",
   "execution_count": null,
   "metadata": {},
   "outputs": [],
   "source": [
    "# OPTIONAL GPU SETTING\n",
    "# Here we override the keras backend env variable to use plaidml\n",
    "# plaidml will use a GPU\n",
    "# This assignment needs to be added before loading keras libraries\n",
    "\n",
    "# os.environ[\"KERAS_BACKEND\"] = \"plaidml.keras.backend\"\n",
    "\n",
    "# to install plaidML, activate appropriate environment and then:\n",
    "#   pip install -U plaidml-keras\n",
    "#   plaidml-setup"
   ]
  },
  {
   "cell_type": "code",
   "execution_count": null,
   "metadata": {},
   "outputs": [],
   "source": [
    "# localtion of test data\n",
    "# requires subdirectory 'images/data'\n",
    "source_dir = '/Users/markmcdonald/Desktop/89FinalData/test'"
   ]
  },
  {
   "cell_type": "code",
   "execution_count": null,
   "metadata": {},
   "outputs": [],
   "source": [
    "# Loading a prevously saved pickle file\n",
    "import pickle\n",
    "\n",
    "def pickle_load(pickel_filepath):\n",
    "    with open(pickel_filepath, 'rb') as f:\n",
    "        data = pickle.load(f)\n",
    "        return data"
   ]
  },
  {
   "cell_type": "code",
   "execution_count": null,
   "metadata": {},
   "outputs": [],
   "source": [
    "# all PathFinder pickle files are saved with data.pickle filename\n",
    "pickle_filename = 'data.pickle'\n",
    "\n",
    "# Path name to pickle file - this is where video will be saved with name from description object in pickle\n",
    "pickel_dirpath = '/Users/markmcdonald/Desktop/89FinalData/results/1557605073_CNN_encoder2400_epochs=100_notes=rot30-bothflip-.6-1.0zoom_loss=0.3394'\n",
    "target_dir = pickel_filepath"
   ]
  },
  {
   "cell_type": "code",
   "execution_count": null,
   "metadata": {},
   "outputs": [],
   "source": [
    "# get 'description' and 'model' objects from pickle file\n",
    "data = pickle_load(os.path.join(pickel_dirpath, pickle_filename))\n",
    "description = data[0]\n",
    "model = data[1]"
   ]
  },
  {
   "cell_type": "code",
   "execution_count": null,
   "metadata": {},
   "outputs": [],
   "source": [
    "# for reference\n",
    "description"
   ]
  },
  {
   "cell_type": "code",
   "execution_count": null,
   "metadata": {},
   "outputs": [],
   "source": [
    "# for reference\n",
    "model.summary()"
   ]
  },
  {
   "cell_type": "code",
   "execution_count": null,
   "metadata": {},
   "outputs": [],
   "source": [
    "# execute create video function\n",
    "# creates a single video with all video sequences in the testdir directory\n",
    "from video_support_processes import *\n",
    "create_video_with_test_data(source_dir, model, description, target_dir, filename=description[\"name\"])"
   ]
  },
  {
   "cell_type": "code",
   "execution_count": null,
   "metadata": {},
   "outputs": [],
   "source": []
  },
  {
   "cell_type": "code",
   "execution_count": null,
   "metadata": {},
   "outputs": [],
   "source": []
  },
  {
   "cell_type": "code",
   "execution_count": null,
   "metadata": {},
   "outputs": [],
   "source": []
  }
 ],
 "metadata": {
  "kernelspec": {
   "display_name": "Python 3",
   "language": "python",
   "name": "python3"
  },
  "language_info": {
   "codemirror_mode": {
    "name": "ipython",
    "version": 3
   },
   "file_extension": ".py",
   "mimetype": "text/x-python",
   "name": "python",
   "nbconvert_exporter": "python",
   "pygments_lexer": "ipython3",
   "version": "3.6.8"
  }
 },
 "nbformat": 4,
 "nbformat_minor": 2
}
