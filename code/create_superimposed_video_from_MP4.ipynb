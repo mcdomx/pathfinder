{
 "cells": [
  {
   "cell_type": "markdown",
   "metadata": {},
   "source": [
    "## Process an External Video with mask\n",
    "This script will start with a directory that contains an  \n",
    "MP4 video file that we want to create a navigation heatmap for.  \n",
    "  \n",
    "The script requires a source_video to be defined.  \n",
    "A temp conversion directory is created in the same directory as the video file.\n",
    "The temp directory will be erased when the superimposed video is completed.  \n",
    "A final superimposed video will be in the same location as the  \n",
    "original MP4 file with the same name appended with '_heatmap'."
   ]
  },
  {
   "cell_type": "code",
   "execution_count": 1,
   "metadata": {},
   "outputs": [],
   "source": [
    "import os"
   ]
  },
  {
   "cell_type": "code",
   "execution_count": 2,
   "metadata": {},
   "outputs": [],
   "source": [
    "# OPTIONAL SETTING\n",
    "# Here we override the keras backend env variable to use plaidml\n",
    "# plaidml will use a GPU\n",
    "# This assignment needs to be added before loading keras libraries\n",
    "\n",
    "# os.environ[\"KERAS_BACKEND\"] = \"plaidml.keras.backend\"\n",
    "\n",
    "# to install plaidML, activate appropriate environment and then:\n",
    "#   pip install -U plaidml-keras\n",
    "#   plaidml-setup"
   ]
  },
  {
   "cell_type": "code",
   "execution_count": 3,
   "metadata": {},
   "outputs": [
    {
     "name": "stderr",
     "output_type": "stream",
     "text": [
      "Using TensorFlow backend.\n"
     ]
    }
   ],
   "source": [
    "import cv2\n",
    "import video_support_processes as pf_video"
   ]
  },
  {
   "cell_type": "code",
   "execution_count": 13,
   "metadata": {},
   "outputs": [],
   "source": [
    "source_video_filepath = '/Volumes/Photos-BACKUP/89FinalProject/testVideo/GOPR4272.MP4'"
   ]
  },
  {
   "cell_type": "code",
   "execution_count": 15,
   "metadata": {},
   "outputs": [
    {
     "name": "stdout",
     "output_type": "stream",
     "text": [
      "Success: Created Directory:  /Volumes/Photos-BACKUP/89FinalProject/testVideo/images/data\n"
     ]
    }
   ],
   "source": [
    "# Create Temp Directory for processing extract JPG frames\n",
    "source_video_path = os.path.dirname(source_video_filepath)\n",
    "temp_dir = os.path.join(source_video_path,'images','data')\n",
    "\n",
    "try:\n",
    "    os.mkdir(os.path.join(source_video_path,'images'))  \n",
    "    os.mkdir(os.path.join(source_video_path,'images', 'data'))  \n",
    "except:\n",
    "    try:\n",
    "        os.mkdir(temp_dir)\n",
    "        print(\"Success: Created Directory: \", temp_dir)\n",
    "    except(FileExistsError):\n",
    "        print(\"Success: Path Already Exists: \", temp_dir)\n"
   ]
  },
  {
   "cell_type": "code",
   "execution_count": 16,
   "metadata": {},
   "outputs": [],
   "source": [
    "def extractFrames(video_filepath, targetdir):\n",
    " \n",
    "    cap = cv2.VideoCapture(video_filepath)\n",
    "    fps = cap.get(cv2.CAP_PROP_FPS)  # determine the frames per second\n",
    "    count = 0\n",
    " \n",
    "    while (cap.isOpened()):\n",
    " \n",
    "        # Capture frame-by-frame\n",
    "        ret, frame = cap.read()\n",
    " \n",
    "        if ret == True:\n",
    "#             print('Read %d frame: ' % count, ret)\n",
    "            cv2.imwrite(os.path.join(targetdir, \"frame{:d}.jpg\".format(count)), frame)  # save frame as JPEG file\n",
    "            count += 1\n",
    "        else:\n",
    "            break\n",
    " \n",
    "    # When everything done, release the capture\n",
    "    cap.release()\n",
    "    cv2.destroyAllWindows()\n",
    "    \n",
    "    return fps"
   ]
  },
  {
   "cell_type": "code",
   "execution_count": 17,
   "metadata": {},
   "outputs": [],
   "source": [
    "# You only need to do this once per video\n",
    "fps = extractFrames(source_video_filepath, temp_dir)"
   ]
  },
  {
   "cell_type": "code",
   "execution_count": 18,
   "metadata": {},
   "outputs": [],
   "source": [
    "# Loading a prevously saved pickle file\n",
    "import pickle\n",
    "\n",
    "def pickle_load(pickel_filepath):\n",
    "    with open(pickel_filepath, 'rb') as f:\n",
    "        data = pickle.load(f)\n",
    "        return data"
   ]
  },
  {
   "cell_type": "code",
   "execution_count": 19,
   "metadata": {},
   "outputs": [],
   "source": [
    "# process multiple models on the same file\n",
    "pickle_name = 'data.pickle'\n",
    "\n",
    "pickel_filepaths = []\n",
    "pickel_filepaths.append('/Volumes/Photos-BACKUP/89FinalProject/89FinalData/results/1558355901_CNN_encoder2400_epochs=40_notes=rot30-.6-1.0zoom_dropout=.4BEST_loss=0.5912')\n",
    "# multple filepaths can be added to create multuple videos\n",
    "# pickel_filepaths.append('/Users/markmcdonald/Desktop/89FinalData/results/1557686089_CNN_encoder2400_epochs=70_notes=rot30-.6-1.0zoom_dropout=.5_loss=0.5247')\n",
    "\n"
   ]
  },
  {
   "cell_type": "code",
   "execution_count": 20,
   "metadata": {},
   "outputs": [
    {
     "data": {
      "text/plain": [
       "59.94005994005994"
      ]
     },
     "execution_count": 20,
     "metadata": {},
     "output_type": "execute_result"
    }
   ],
   "source": [
    "cap = cv2.VideoCapture(source_video_filepath)\n",
    "fps = cap.get(cv2.CAP_PROP_FPS)  # determine the frames per second\n",
    "fps"
   ]
  },
  {
   "cell_type": "code",
   "execution_count": 21,
   "metadata": {},
   "outputs": [
    {
     "name": "stdout",
     "output_type": "stream",
     "text": [
      "Creating test image generator:\n",
      "\t/Volumes/Photos-BACKUP/89FinalProject/testVideo/images\n",
      "Found 4239 images belonging to 1 classes.\n",
      "Processing 4239 images in 34 batches.\n",
      "Creating video name:  /Volumes/Photos-BACKUP/89FinalProject/testVideo/1558355901_CNN_encoder2400_epochs=40_notes=rot30-.6-1.0zoom_dropout=.4BEST.mp4\n",
      "FPS:  59.94005994005994\n",
      "Processing batch: 1/34 | Max/Min/Avg mask value: 97.87000274658203/0.05999999865889549/26.530000686645508\n",
      "Processing batch: 2/34 | Max/Min/Avg mask value: 100.83999633789062/0.019999999552965164/31.700000762939453\n",
      "Processing batch: 3/34 | Max/Min/Avg mask value: 108.70999908447266/0.03999999910593033/33.650001525878906\n",
      "Processing batch: 4/34 | Max/Min/Avg mask value: 105.87000274658203/0.05000000074505806/32.279998779296875\n",
      "Processing batch: 5/34 | Max/Min/Avg mask value: 124.36000061035156/-0.0/30.399999618530273\n",
      "Processing batch: 6/34 | Max/Min/Avg mask value: 111.2699966430664/0.05000000074505806/32.16999816894531\n",
      "Processing batch: 7/34 | Max/Min/Avg mask value: 114.25/0.009999999776482582/32.439998626708984\n",
      "Processing batch: 8/34 | Max/Min/Avg mask value: 114.79000091552734/-0.0/29.649999618530273\n",
      "Processing batch: 9/34 | Max/Min/Avg mask value: 124.1500015258789/0.07999999821186066/21.100000381469727\n",
      "Processing batch: 10/34 | Max/Min/Avg mask value: 126.11000061035156/0.11999999731779099/18.860000610351562\n",
      "Processing batch: 11/34 | Max/Min/Avg mask value: 132.25/0.10000000149011612/18.3799991607666\n",
      "Processing batch: 12/34 | Max/Min/Avg mask value: 131.75/0.10999999940395355/20.09000015258789\n",
      "Processing batch: 13/34 | Max/Min/Avg mask value: 134.49000549316406/0.09000000357627869/18.850000381469727\n",
      "Processing batch: 14/34 | Max/Min/Avg mask value: 134.63999938964844/0.07999999821186066/19.190000534057617\n",
      "Processing batch: 15/34 | Max/Min/Avg mask value: 133.11000061035156/0.10000000149011612/19.239999771118164\n",
      "Processing batch: 16/34 | Max/Min/Avg mask value: 133.32000732421875/0.07000000029802322/18.549999237060547\n",
      "Processing batch: 17/34 | Max/Min/Avg mask value: 130.63999938964844/0.019999999552965164/19.829999923706055\n",
      "Processing batch: 18/34 | Max/Min/Avg mask value: 131.10000610351562/-0.0/19.860000610351562\n",
      "Processing batch: 19/34 | Max/Min/Avg mask value: 131.69000244140625/0.05000000074505806/22.899999618530273\n",
      "Processing batch: 20/34 | Max/Min/Avg mask value: 139.57000732421875/0.10000000149011612/25.079999923706055\n",
      "Processing batch: 21/34 | Max/Min/Avg mask value: 133.6199951171875/-0.0/28.729999542236328\n",
      "Processing batch: 22/34 | Max/Min/Avg mask value: 138.19000244140625/-0.0/28.579999923706055\n",
      "Processing batch: 23/34 | Max/Min/Avg mask value: 125.75/-0.0/37.79999923706055\n",
      "Processing batch: 24/34 | Max/Min/Avg mask value: 126.08999633789062/-0.0/47.13999938964844\n",
      "Processing batch: 25/34 | Max/Min/Avg mask value: 125.19000244140625/-0.0/46.099998474121094\n",
      "Processing batch: 26/34 | Max/Min/Avg mask value: 131.0399932861328/0.0/47.41999816894531\n",
      "Processing batch: 27/34 | Max/Min/Avg mask value: 131.27000427246094/-0.0/41.45000076293945\n",
      "Processing batch: 28/34 | Max/Min/Avg mask value: 135.22000122070312/-0.0/32.63999938964844\n",
      "Processing batch: 29/34 | Max/Min/Avg mask value: 137.0500030517578/-0.0/44.209999084472656\n",
      "Processing batch: 30/34 | Max/Min/Avg mask value: 110.05999755859375/0.17000000178813934/43.599998474121094\n",
      "Processing batch: 31/34 | Max/Min/Avg mask value: 115.4000015258789/0.07999999821186066/37.189998626708984\n",
      "Processing batch: 32/34 | Max/Min/Avg mask value: 117.12999725341797/0.18000000715255737/31.670000076293945\n",
      "Processing batch: 33/34 | Max/Min/Avg mask value: 96.6500015258789/-0.0/20.3799991607666\n",
      "Processing batch: 34/34 | Max/Min/Avg mask value: 92.01000213623047/0.25999999046325684/23.920000076293945\n",
      "Video created /Volumes/Photos-BACKUP/89FinalProject/testVideo/1558355901_CNN_encoder2400_epochs=40_notes=rot30-.6-1.0zoom_dropout=.4BEST.mp4\n"
     ]
    }
   ],
   "source": [
    "# use bigger batch size for more computer memory\n",
    "for pickel_filepath in pickel_filepaths:\n",
    "    data = pickle_load(os.path.join(pickel_filepath, pickle_name))\n",
    "    description = data[0]\n",
    "    model = data[1]\n",
    "    pf_video.create_video_with_test_data(source_video_path, model, description, source_video_path, \n",
    "                                         batch_size=128, \n",
    "                                         fps=fps,\n",
    "                                         invert=True)"
   ]
  },
  {
   "cell_type": "code",
   "execution_count": null,
   "metadata": {},
   "outputs": [],
   "source": []
  },
  {
   "cell_type": "code",
   "execution_count": null,
   "metadata": {},
   "outputs": [],
   "source": []
  },
  {
   "cell_type": "code",
   "execution_count": null,
   "metadata": {},
   "outputs": [],
   "source": []
  }
 ],
 "metadata": {
  "kernelspec": {
   "display_name": "Python 3",
   "language": "python",
   "name": "python3"
  },
  "language_info": {
   "codemirror_mode": {
    "name": "ipython",
    "version": 3
   },
   "file_extension": ".py",
   "mimetype": "text/x-python",
   "name": "python",
   "nbconvert_exporter": "python",
   "pygments_lexer": "ipython3",
   "version": "3.6.8"
  }
 },
 "nbformat": 4,
 "nbformat_minor": 2
}
