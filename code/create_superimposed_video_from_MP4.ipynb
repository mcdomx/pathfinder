{
 "cells": [
  {
   "cell_type": "markdown",
   "metadata": {},
   "source": [
    "## Process an External Video with mask\n",
    "This script will start with a directory that contains an  \n",
    "MP4 video file that we want to create a navigation heatmap for.  \n",
    "  \n",
    "The script requires a source_video to be defined.  \n",
    "A temp conversion directory is created in the same directory as the video file.\n",
    "The temp directory will be erased when the superimposed video is completed.  \n",
    "A final superimposed video will be in the same location as the  \n",
    "original MP4 file with the same name appended with '_heatmap'."
   ]
  },
  {
   "cell_type": "code",
   "execution_count": null,
   "metadata": {},
   "outputs": [],
   "source": [
    "import os"
   ]
  },
  {
   "cell_type": "code",
   "execution_count": null,
   "metadata": {},
   "outputs": [],
   "source": [
    "# OPTIONAL SETTING\n",
    "# Here we override the keras backend env variable to use plaidml\n",
    "# plaidml will use a GPU\n",
    "# This assignment needs to be added before loading keras libraries\n",
    "\n",
    "os.environ[\"KERAS_BACKEND\"] = \"plaidml.keras.backend\"\n",
    "\n",
    "# to install plaidML, activate appropriate environment and then:\n",
    "#   pip install -U plaidml-keras\n",
    "#   plaidml-setup"
   ]
  },
  {
   "cell_type": "code",
   "execution_count": null,
   "metadata": {},
   "outputs": [],
   "source": [
    "import cv2\n",
    "import video_support_processes as pf_video"
   ]
  },
  {
   "cell_type": "code",
   "execution_count": null,
   "metadata": {},
   "outputs": [],
   "source": [
    "source_video_filepath = '/Users/markmcdonald/Desktop/89FinalData/ext_train_data/mountain_biking/GOPR0145.MP4'"
   ]
  },
  {
   "cell_type": "code",
   "execution_count": null,
   "metadata": {},
   "outputs": [],
   "source": [
    "# Create Temp Directory for processing extract JPG frames\n",
    "source_video_path = os.path.dirname(source_video_filepath)\n",
    "temp_dir = os.path.join(source_video_path,'images','data')\n",
    "\n",
    "try:\n",
    "    os.mkdir(os.path.join(source_video_path,'images'))  \n",
    "except:\n",
    "    try:\n",
    "        os.mkdir(temp_dir)\n",
    "        print(\"Success: Created Directory: \", temp_dir)\n",
    "    except(FileExistsError):\n",
    "        print(\"Success: Path Already Exists: \", temp_dir)\n"
   ]
  },
  {
   "cell_type": "code",
   "execution_count": null,
   "metadata": {},
   "outputs": [],
   "source": [
    "def extractFrames(video_filepath, targetdir):\n",
    " \n",
    "    cap = cv2.VideoCapture(video_filepath)\n",
    "    fps = cap.get(cv2.CAP_PROP_FPS)  # determine the frames per second\n",
    "    count = 0\n",
    " \n",
    "    while (cap.isOpened()):\n",
    " \n",
    "        # Capture frame-by-frame\n",
    "        ret, frame = cap.read()\n",
    " \n",
    "        if ret == True:\n",
    "#             print('Read %d frame: ' % count, ret)\n",
    "            cv2.imwrite(os.path.join(targetdir, \"frame{:d}.jpg\".format(count)), frame)  # save frame as JPEG file\n",
    "            count += 1\n",
    "        else:\n",
    "            break\n",
    " \n",
    "    # When everything done, release the capture\n",
    "    cap.release()\n",
    "    cv2.destroyAllWindows()\n",
    "    \n",
    "    return fps"
   ]
  },
  {
   "cell_type": "code",
   "execution_count": null,
   "metadata": {},
   "outputs": [],
   "source": [
    "# You only need to do this once per video\n",
    "fps = extractFrames(source_video_filepath, temp_dir)"
   ]
  },
  {
   "cell_type": "code",
   "execution_count": null,
   "metadata": {},
   "outputs": [],
   "source": [
    "# Loading a prevously saved pickle file\n",
    "import pickle\n",
    "\n",
    "def pickle_load(pickel_filepath):\n",
    "    with open(pickel_filepath, 'rb') as f:\n",
    "        data = pickle.load(f)\n",
    "        return data"
   ]
  },
  {
   "cell_type": "code",
   "execution_count": null,
   "metadata": {},
   "outputs": [],
   "source": [
    "# process multiple models on the same file\n",
    "pickle_name = 'data.pickle'\n",
    "\n",
    "pickel_filepaths = []\n",
    "pickel_filepaths.append('/Users/markmcdonald/Desktop/89FinalData/results/1557741539_CNN_encoder2400_epochs=40_notes=dropout=.4_loss=0.562')\n",
    "# multple filepaths can be added to create multuple videos\n",
    "# pickel_filepaths.append('/Users/markmcdonald/Desktop/89FinalData/results/1557686089_CNN_encoder2400_epochs=70_notes=rot30-.6-1.0zoom_dropout=.5_loss=0.5247')\n",
    "\n"
   ]
  },
  {
   "cell_type": "code",
   "execution_count": null,
   "metadata": {},
   "outputs": [],
   "source": [
    "cap = cv2.VideoCapture(source_video_filepath)\n",
    "fps = cap.get(cv2.CAP_PROP_FPS)  # determine the frames per second\n",
    "fps"
   ]
  },
  {
   "cell_type": "code",
   "execution_count": null,
   "metadata": {},
   "outputs": [],
   "source": [
    "# use bigger batch size for more computer memory\n",
    "for pickel_filepath in pickel_filepaths:\n",
    "    data = pickle_load(os.path.join(pickel_filepath, pickle_name))\n",
    "    description = data[0]\n",
    "    model = data[1]\n",
    "    pf_video.create_video_with_test_data(source_video_path, model, description, source_video_path, \n",
    "                                         batch_size=128, \n",
    "                                         fps=fps,\n",
    "                                         invert=True)"
   ]
  },
  {
   "cell_type": "code",
   "execution_count": null,
   "metadata": {},
   "outputs": [],
   "source": []
  },
  {
   "cell_type": "code",
   "execution_count": null,
   "metadata": {},
   "outputs": [],
   "source": []
  },
  {
   "cell_type": "code",
   "execution_count": null,
   "metadata": {},
   "outputs": [],
   "source": []
  }
 ],
 "metadata": {
  "kernelspec": {
   "display_name": "Python 3",
   "language": "python",
   "name": "python3"
  },
  "language_info": {
   "codemirror_mode": {
    "name": "ipython",
    "version": 3
   },
   "file_extension": ".py",
   "mimetype": "text/x-python",
   "name": "python",
   "nbconvert_exporter": "python",
   "pygments_lexer": "ipython3",
   "version": "3.6.8"
  }
 },
 "nbformat": 4,
 "nbformat_minor": 2
}
